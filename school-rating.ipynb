{
 "cells": [
  {
   "cell_type": "markdown",
   "id": "50165877",
   "metadata": {
    "papermill": {
     "duration": 0.003241,
     "end_time": "2024-08-27T10:10:20.695488",
     "exception": false,
     "start_time": "2024-08-27T10:10:20.692247",
     "status": "completed"
    },
    "tags": []
   },
   "source": [
    "Every year, American high school students take SATs, which are standardized tests intended to measure literacy, numeracy, and writing skills. There are three sections - reading, math, and writing, each with a **maximum score of 800 points**. These tests are extremely important for students and colleges, as they play a pivotal role in the admissions process.\n",
    "\n",
    "Analyzing the performance of schools is important for a variety of stakeholders, including policy and education professionals, researchers, government, and even parents considering which school their children should attend. \n",
    "\n",
    "You have been tasked with answering three key questions about New York City (NYC) public school SAT performance;\n",
    "*Which NYC schools have the best math results?\n",
    "*What are the top 10 performing schools based on the combined SAT scores?\n",
    "*Which single borough has the largest standard deviation in the combined SAT score?"
   ]
  },
  {
   "cell_type": "code",
   "execution_count": 1,
   "id": "3aff65e0",
   "metadata": {
    "execution": {
     "iopub.execute_input": "2024-08-27T10:10:20.702283Z",
     "iopub.status.busy": "2024-08-27T10:10:20.701869Z",
     "iopub.status.idle": "2024-08-27T10:10:21.390148Z",
     "shell.execute_reply": "2024-08-27T10:10:21.389023Z"
    },
    "executionCancelledAt": null,
    "executionTime": 49,
    "id": "bA5ajAmk7XH6",
    "lastExecutedAt": 1721392191688,
    "lastExecutedByKernel": "ee508062-2cf8-40d9-be2f-06db4b384070",
    "lastScheduledRunId": null,
    "lastSuccessfullyExecutedCode": "# Re-run this cell \nimport pandas as pd\nimport numpy as np\n\n# Read in the data\nschools = pd.read_csv(\"schools.csv\")\n\n# Preview the data\nschools.head()\n\n# Start coding here...\n# Add as many cells as you like...",
    "outputsMetadata": {
     "0": {
      "height": 211,
      "type": "dataFrame"
     }
    },
    "papermill": {
     "duration": 0.694193,
     "end_time": "2024-08-27T10:10:21.392357",
     "exception": false,
     "start_time": "2024-08-27T10:10:20.698164",
     "status": "completed"
    },
    "tags": []
   },
   "outputs": [
    {
     "data": {
      "text/html": [
       "<div>\n",
       "<style scoped>\n",
       "    .dataframe tbody tr th:only-of-type {\n",
       "        vertical-align: middle;\n",
       "    }\n",
       "\n",
       "    .dataframe tbody tr th {\n",
       "        vertical-align: top;\n",
       "    }\n",
       "\n",
       "    .dataframe thead th {\n",
       "        text-align: right;\n",
       "    }\n",
       "</style>\n",
       "<table border=\"1\" class=\"dataframe\">\n",
       "  <thead>\n",
       "    <tr style=\"text-align: right;\">\n",
       "      <th></th>\n",
       "      <th>school_name</th>\n",
       "      <th>borough</th>\n",
       "      <th>building_code</th>\n",
       "      <th>average_math</th>\n",
       "      <th>average_reading</th>\n",
       "      <th>average_writing</th>\n",
       "      <th>percent_tested</th>\n",
       "    </tr>\n",
       "  </thead>\n",
       "  <tbody>\n",
       "    <tr>\n",
       "      <th>0</th>\n",
       "      <td>New Explorations into Science, Technology and ...</td>\n",
       "      <td>Manhattan</td>\n",
       "      <td>M022</td>\n",
       "      <td>657</td>\n",
       "      <td>601</td>\n",
       "      <td>601</td>\n",
       "      <td>NaN</td>\n",
       "    </tr>\n",
       "    <tr>\n",
       "      <th>1</th>\n",
       "      <td>Essex Street Academy</td>\n",
       "      <td>Manhattan</td>\n",
       "      <td>M445</td>\n",
       "      <td>395</td>\n",
       "      <td>411</td>\n",
       "      <td>387</td>\n",
       "      <td>78.9</td>\n",
       "    </tr>\n",
       "    <tr>\n",
       "      <th>2</th>\n",
       "      <td>Lower Manhattan Arts Academy</td>\n",
       "      <td>Manhattan</td>\n",
       "      <td>M445</td>\n",
       "      <td>418</td>\n",
       "      <td>428</td>\n",
       "      <td>415</td>\n",
       "      <td>65.1</td>\n",
       "    </tr>\n",
       "    <tr>\n",
       "      <th>3</th>\n",
       "      <td>High School for Dual Language and Asian Studies</td>\n",
       "      <td>Manhattan</td>\n",
       "      <td>M445</td>\n",
       "      <td>613</td>\n",
       "      <td>453</td>\n",
       "      <td>463</td>\n",
       "      <td>95.9</td>\n",
       "    </tr>\n",
       "    <tr>\n",
       "      <th>4</th>\n",
       "      <td>Henry Street School for International Studies</td>\n",
       "      <td>Manhattan</td>\n",
       "      <td>M056</td>\n",
       "      <td>410</td>\n",
       "      <td>406</td>\n",
       "      <td>381</td>\n",
       "      <td>59.7</td>\n",
       "    </tr>\n",
       "  </tbody>\n",
       "</table>\n",
       "</div>"
      ],
      "text/plain": [
       "                                         school_name    borough building_code  \\\n",
       "0  New Explorations into Science, Technology and ...  Manhattan          M022   \n",
       "1                               Essex Street Academy  Manhattan          M445   \n",
       "2                       Lower Manhattan Arts Academy  Manhattan          M445   \n",
       "3    High School for Dual Language and Asian Studies  Manhattan          M445   \n",
       "4      Henry Street School for International Studies  Manhattan          M056   \n",
       "\n",
       "   average_math  average_reading  average_writing  percent_tested  \n",
       "0           657              601              601             NaN  \n",
       "1           395              411              387            78.9  \n",
       "2           418              428              415            65.1  \n",
       "3           613              453              463            95.9  \n",
       "4           410              406              381            59.7  "
      ]
     },
     "execution_count": 1,
     "metadata": {},
     "output_type": "execute_result"
    }
   ],
   "source": [
    "\n",
    "import pandas as pd\n",
    "import numpy as np\n",
    "\n",
    "# Read in the data\n",
    "schools = pd.read_csv('/kaggle/input/school/schools.csv')\n",
    "\n",
    "# Preview the data\n",
    "schools.head()\n"
   ]
  },
  {
   "cell_type": "code",
   "execution_count": 2,
   "id": "58f62a14",
   "metadata": {
    "execution": {
     "iopub.execute_input": "2024-08-27T10:10:21.399329Z",
     "iopub.status.busy": "2024-08-27T10:10:21.398970Z",
     "iopub.status.idle": "2024-08-27T10:10:21.415571Z",
     "shell.execute_reply": "2024-08-27T10:10:21.414524Z"
    },
    "executionCancelledAt": null,
    "executionTime": 56,
    "lastExecutedAt": 1721392191744,
    "lastExecutedByKernel": "ee508062-2cf8-40d9-be2f-06db4b384070",
    "lastScheduledRunId": null,
    "lastSuccessfullyExecutedCode": "\nbest_math = schools[schools[\"average_math\"] >= 640]\n\nbest_math_schools= best_math[[\"school_name\",\"average_math\"]].sort_values(\"average_math\", ascending=False)\n\nprint(best_math_schools)                                                                          \n                                                                    \n                                                                          ",
    "outputsMetadata": {
     "0": {
      "height": 248,
      "type": "stream"
     }
    },
    "papermill": {
     "duration": 0.022736,
     "end_time": "2024-08-27T10:10:21.417993",
     "exception": false,
     "start_time": "2024-08-27T10:10:21.395257",
     "status": "completed"
    },
    "tags": []
   },
   "outputs": [
    {
     "name": "stdout",
     "output_type": "stream",
     "text": [
      "                                           school_name  average_math\n",
      "88                              Stuyvesant High School           754\n",
      "170                       Bronx High School of Science           714\n",
      "93                 Staten Island Technical High School           711\n",
      "365  Queens High School for the Sciences at York Co...           701\n",
      "68   High School for Mathematics, Science, and Engi...           683\n",
      "280                     Brooklyn Technical High School           682\n",
      "333                        Townsend Harris High School           680\n",
      "174  High School of American Studies at Lehman College           669\n",
      "0    New Explorations into Science, Technology and ...           657\n",
      "45                       Eleanor Roosevelt High School           641\n"
     ]
    }
   ],
   "source": [
    "\n",
    "best_math = schools[schools[\"average_math\"] >= 640]\n",
    "\n",
    "best_math_schools= best_math[[\"school_name\",\"average_math\"]].sort_values(\"average_math\", ascending=False)\n",
    "\n",
    "print(best_math_schools)                                                                          \n",
    "                                                                    \n",
    "                                                                          "
   ]
  },
  {
   "cell_type": "code",
   "execution_count": 3,
   "id": "ebc9b3d5",
   "metadata": {
    "execution": {
     "iopub.execute_input": "2024-08-27T10:10:21.425657Z",
     "iopub.status.busy": "2024-08-27T10:10:21.425254Z",
     "iopub.status.idle": "2024-08-27T10:10:21.436258Z",
     "shell.execute_reply": "2024-08-27T10:10:21.435146Z"
    },
    "executionCancelledAt": null,
    "executionTime": 56,
    "lastExecutedAt": 1721392191800,
    "lastExecutedByKernel": "ee508062-2cf8-40d9-be2f-06db4b384070",
    "lastScheduledRunId": null,
    "lastSuccessfullyExecutedCode": "schools[\"total_SAT\"] = schools[\"average_math\"] + schools[\"average_reading\"] + schools[\"average_writing\"]\ntop_schools = schools[[\"school_name\",\"total_SAT\"]].sort_values(\"total_SAT\",ascending = False)\ntop_10_schools = top_schools.iloc[0:10,:]\nprint(top_10_schools)                                                                                  ",
    "outputsMetadata": {
     "0": {
      "height": 248,
      "type": "stream"
     }
    },
    "papermill": {
     "duration": 0.017418,
     "end_time": "2024-08-27T10:10:21.438506",
     "exception": false,
     "start_time": "2024-08-27T10:10:21.421088",
     "status": "completed"
    },
    "tags": []
   },
   "outputs": [
    {
     "name": "stdout",
     "output_type": "stream",
     "text": [
      "                                           school_name  total_SAT\n",
      "88                              Stuyvesant High School       2144\n",
      "170                       Bronx High School of Science       2041\n",
      "93                 Staten Island Technical High School       2041\n",
      "174  High School of American Studies at Lehman College       2013\n",
      "333                        Townsend Harris High School       1981\n",
      "365  Queens High School for the Sciences at York Co...       1947\n",
      "5                       Bard High School Early College       1914\n",
      "280                     Brooklyn Technical High School       1896\n",
      "45                       Eleanor Roosevelt High School       1889\n",
      "68   High School for Mathematics, Science, and Engi...       1889\n"
     ]
    }
   ],
   "source": [
    "schools[\"total_SAT\"] = schools[\"average_math\"] + schools[\"average_reading\"] + schools[\"average_writing\"]\n",
    "top_schools = schools[[\"school_name\",\"total_SAT\"]].sort_values(\"total_SAT\",ascending = False)\n",
    "top_10_schools = top_schools.iloc[0:10,:]\n",
    "print(top_10_schools)                                                                                  "
   ]
  },
  {
   "cell_type": "code",
   "execution_count": 4,
   "id": "365d656e",
   "metadata": {
    "execution": {
     "iopub.execute_input": "2024-08-27T10:10:21.446053Z",
     "iopub.status.busy": "2024-08-27T10:10:21.445670Z",
     "iopub.status.idle": "2024-08-27T10:10:21.472841Z",
     "shell.execute_reply": "2024-08-27T10:10:21.471683Z"
    },
    "executionCancelledAt": null,
    "executionTime": 52,
    "lastExecutedAt": 1721392191852,
    "lastExecutedByKernel": "ee508062-2cf8-40d9-be2f-06db4b384070",
    "lastScheduledRunId": null,
    "lastSuccessfullyExecutedCode": "import numpy as np\n# Grouping by borough and calculating aggregates\nschools_by_borough = schools.groupby('borough')[\"total_SAT\"].agg([np.mean, np.median, np.std, np.sum])\nnum_school_total = schools.groupby('borough').size()\nschools_by_borough[\"num_schools\"] = num_school_total\n\n# Rounding the aggregated columns\nborough_rounded = schools_by_borough[[\"mean\", \"std\", \"num_schools\", \"sum\"]].round(2)\n\n# Sorting by standard deviation\nrank_by_std = borough_rounded.sort_values(\"std\", ascending=False)\n\n# Renaming columns\nborough_renamed = rank_by_std.rename(columns={\"mean\": \"average_SAT\", \"sum\": \"total_SAT\",\"std\":\"std_SAT\"})\n\n# Selecting specific columns\ninfo = borough_renamed[[\"num_schools\", \"average_SAT\", \"total_SAT\",\"std_SAT\"]]\n\n# Extracting the row with the largest standard deviation\nlargest_std_dev = info.head(1)\n\n# Reassigning index to be the borough name\nlargest_std_dev.index = [largest_std_dev.index[0]]\nlargest_std_dev.index.name = 'borough'\nprint(largest_std_dev)",
    "outputsMetadata": {
     "0": {
      "height": 80,
      "type": "stream"
     }
    },
    "papermill": {
     "duration": 0.033859,
     "end_time": "2024-08-27T10:10:21.475406",
     "exception": false,
     "start_time": "2024-08-27T10:10:21.441547",
     "status": "completed"
    },
    "tags": []
   },
   "outputs": [
    {
     "name": "stdout",
     "output_type": "stream",
     "text": [
      "           num_schools  average_SAT  total_SAT  std_SAT\n",
      "borough                                                \n",
      "Manhattan           89      1340.13     119272   230.29\n"
     ]
    }
   ],
   "source": [
    "\n",
    "# Grouping by borough and calculating aggregates\n",
    "schools_by_borough = schools.groupby('borough')[\"total_SAT\"].agg(['mean', 'median', 'std', 'sum'])\n",
    "num_school_total = schools.groupby('borough').size()\n",
    "schools_by_borough[\"num_schools\"] = num_school_total\n",
    "\n",
    "# Rounding the aggregated columns\n",
    "borough_rounded = schools_by_borough[[\"mean\", \"std\", \"num_schools\", \"sum\"]].round(2)\n",
    "\n",
    "# Sorting by standard deviation\n",
    "rank_by_std = borough_rounded.sort_values(\"std\", ascending=False)\n",
    "\n",
    "# Renaming columns\n",
    "borough_renamed = rank_by_std.rename(columns={\"mean\": \"average_SAT\", \"sum\": \"total_SAT\",\"std\":\"std_SAT\"})\n",
    "\n",
    "# Selecting specific columns\n",
    "info = borough_renamed[[\"num_schools\", \"average_SAT\", \"total_SAT\",\"std_SAT\"]]\n",
    "\n",
    "# Extracting the row with the largest standard deviation\n",
    "largest_std_dev = info.head(1)\n",
    "\n",
    "# Reassigning index to be the borough name\n",
    "largest_std_dev.index = [largest_std_dev.index[0]]\n",
    "largest_std_dev.index.name = 'borough'\n",
    "print(largest_std_dev)"
   ]
  }
 ],
 "metadata": {
  "editor": "DataLab",
  "kaggle": {
   "accelerator": "none",
   "dataSources": [
    {
     "datasetId": 5601470,
     "sourceId": 9257961,
     "sourceType": "datasetVersion"
    }
   ],
   "dockerImageVersionId": 30761,
   "isGpuEnabled": false,
   "isInternetEnabled": true,
   "language": "python",
   "sourceType": "notebook"
  },
  "kernelspec": {
   "display_name": "Python 3",
   "language": "python",
   "name": "python3"
  },
  "language_info": {
   "codemirror_mode": {
    "name": "ipython",
    "version": 3
   },
   "file_extension": ".py",
   "mimetype": "text/x-python",
   "name": "python",
   "nbconvert_exporter": "python",
   "pygments_lexer": "ipython3",
   "version": "3.10.14"
  },
  "papermill": {
   "default_parameters": {},
   "duration": 4.088432,
   "end_time": "2024-08-27T10:10:21.898178",
   "environment_variables": {},
   "exception": null,
   "input_path": "__notebook__.ipynb",
   "output_path": "__notebook__.ipynb",
   "parameters": {},
   "start_time": "2024-08-27T10:10:17.809746",
   "version": "2.6.0"
  }
 },
 "nbformat": 4,
 "nbformat_minor": 5
}
